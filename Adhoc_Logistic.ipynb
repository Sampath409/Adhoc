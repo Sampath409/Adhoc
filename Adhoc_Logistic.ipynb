{
 "cells": [
  {
   "cell_type": "code",
   "execution_count": 1,
   "metadata": {
    "colab": {},
    "colab_type": "code",
    "id": "LbUyjebgYEXo"
   },
   "outputs": [],
   "source": [
    "# Importing required libraries\n",
    "import pandas as pd\n",
    "from sklearn.model_selection import train_test_split\n",
    "from sklearn.linear_model import LogisticRegression\n",
    "from sklearn.metrics import accuracy_score,confusion_matrix,classification_report"
   ]
  },
  {
   "cell_type": "code",
   "execution_count": 2,
   "metadata": {
    "colab": {},
    "colab_type": "code",
    "id": "peqNVfBJZ9HY"
   },
   "outputs": [],
   "source": [
    "## Reading data\n",
    "data = pd.read_csv('Data.csv') "
   ]
  },
  {
   "cell_type": "code",
   "execution_count": 3,
   "metadata": {
    "colab": {
     "base_uri": "https://localhost:8080/",
     "height": 197
    },
    "colab_type": "code",
    "executionInfo": {
     "elapsed": 1510,
     "status": "ok",
     "timestamp": 1593514781403,
     "user": {
      "displayName": "Sampath Sampath",
      "photoUrl": "https://lh3.googleusercontent.com/a-/AOh14Gip83uGbOrhTC5E5zZvrIwLDqaM-1bEPB8e4eEg5g=s64",
      "userId": "01828029530078145206"
     },
     "user_tz": -330
    },
    "id": "EOSRSmS4xVtQ",
    "outputId": "fbe596bf-a8b3-47c1-9d4a-aa0f5f377723"
   },
   "outputs": [
    {
     "data": {
      "text/html": [
       "<div>\n",
       "<style scoped>\n",
       "    .dataframe tbody tr th:only-of-type {\n",
       "        vertical-align: middle;\n",
       "    }\n",
       "\n",
       "    .dataframe tbody tr th {\n",
       "        vertical-align: top;\n",
       "    }\n",
       "\n",
       "    .dataframe thead th {\n",
       "        text-align: right;\n",
       "    }\n",
       "</style>\n",
       "<table border=\"1\" class=\"dataframe\">\n",
       "  <thead>\n",
       "    <tr style=\"text-align: right;\">\n",
       "      <th></th>\n",
       "      <th>Unnamed: 0</th>\n",
       "      <th>pos_x</th>\n",
       "      <th>pos_y</th>\n",
       "      <th>pos_z</th>\n",
       "      <th>spd_x</th>\n",
       "      <th>spd_y</th>\n",
       "      <th>spd_z</th>\n",
       "      <th>Density_Level</th>\n",
       "      <th>Attacker_Density</th>\n",
       "      <th>AttackerType</th>\n",
       "    </tr>\n",
       "  </thead>\n",
       "  <tbody>\n",
       "    <tr>\n",
       "      <th>0</th>\n",
       "      <td>0</td>\n",
       "      <td>3597.152086</td>\n",
       "      <td>5542.199221</td>\n",
       "      <td>1.895</td>\n",
       "      <td>-3.178366</td>\n",
       "      <td>38.798969</td>\n",
       "      <td>0.0</td>\n",
       "      <td>3</td>\n",
       "      <td>0.1</td>\n",
       "      <td>0</td>\n",
       "    </tr>\n",
       "    <tr>\n",
       "      <th>1</th>\n",
       "      <td>1</td>\n",
       "      <td>3596.805861</td>\n",
       "      <td>5692.113417</td>\n",
       "      <td>1.895</td>\n",
       "      <td>1.282467</td>\n",
       "      <td>-29.864003</td>\n",
       "      <td>0.0</td>\n",
       "      <td>3</td>\n",
       "      <td>0.1</td>\n",
       "      <td>0</td>\n",
       "    </tr>\n",
       "    <tr>\n",
       "      <th>2</th>\n",
       "      <td>2</td>\n",
       "      <td>3597.770493</td>\n",
       "      <td>5764.800893</td>\n",
       "      <td>1.895</td>\n",
       "      <td>-0.020161</td>\n",
       "      <td>-34.568848</td>\n",
       "      <td>0.0</td>\n",
       "      <td>3</td>\n",
       "      <td>0.1</td>\n",
       "      <td>0</td>\n",
       "    </tr>\n",
       "    <tr>\n",
       "      <th>3</th>\n",
       "      <td>3</td>\n",
       "      <td>3822.892006</td>\n",
       "      <td>5266.806009</td>\n",
       "      <td>1.895</td>\n",
       "      <td>1.305362</td>\n",
       "      <td>-0.988730</td>\n",
       "      <td>0.0</td>\n",
       "      <td>3</td>\n",
       "      <td>0.1</td>\n",
       "      <td>0</td>\n",
       "    </tr>\n",
       "    <tr>\n",
       "      <th>4</th>\n",
       "      <td>4</td>\n",
       "      <td>3617.100034</td>\n",
       "      <td>5417.782781</td>\n",
       "      <td>1.895</td>\n",
       "      <td>4.937950</td>\n",
       "      <td>-39.877578</td>\n",
       "      <td>0.0</td>\n",
       "      <td>3</td>\n",
       "      <td>0.1</td>\n",
       "      <td>0</td>\n",
       "    </tr>\n",
       "  </tbody>\n",
       "</table>\n",
       "</div>"
      ],
      "text/plain": [
       "   Unnamed: 0        pos_x        pos_y  pos_z     spd_x      spd_y  spd_z  \\\n",
       "0           0  3597.152086  5542.199221  1.895 -3.178366  38.798969    0.0   \n",
       "1           1  3596.805861  5692.113417  1.895  1.282467 -29.864003    0.0   \n",
       "2           2  3597.770493  5764.800893  1.895 -0.020161 -34.568848    0.0   \n",
       "3           3  3822.892006  5266.806009  1.895  1.305362  -0.988730    0.0   \n",
       "4           4  3617.100034  5417.782781  1.895  4.937950 -39.877578    0.0   \n",
       "\n",
       "   Density_Level  Attacker_Density  AttackerType  \n",
       "0              3               0.1             0  \n",
       "1              3               0.1             0  \n",
       "2              3               0.1             0  \n",
       "3              3               0.1             0  \n",
       "4              3               0.1             0  "
      ]
     },
     "execution_count": 3,
     "metadata": {},
     "output_type": "execute_result"
    }
   ],
   "source": [
    "## Displaying top 5 records of data\n",
    "data.head()"
   ]
  },
  {
   "cell_type": "code",
   "execution_count": 4,
   "metadata": {
    "colab": {},
    "colab_type": "code",
    "id": "-nlxQdd8xYJs"
   },
   "outputs": [],
   "source": [
    "# Dropped unnecessary columns\n",
    "data = data.drop('Unnamed: 0',axis=1)"
   ]
  },
  {
   "cell_type": "code",
   "execution_count": 9,
   "metadata": {},
   "outputs": [],
   "source": [
    "data = data.drop(['spd_x','spd_y','spd_z'],axis=1)"
   ]
  },
  {
   "cell_type": "code",
   "execution_count": 10,
   "metadata": {
    "colab": {},
    "colab_type": "code",
    "id": "0SUiOC2j4w8K"
   },
   "outputs": [],
   "source": [
    "# Preparing data as per model requirement\n",
    "X = data.drop('AttackerType',axis=1)\n",
    "Y = data['AttackerType']"
   ]
  },
  {
   "cell_type": "code",
   "execution_count": 11,
   "metadata": {
    "colab": {},
    "colab_type": "code",
    "id": "vd1NGr3YxJ5X"
   },
   "outputs": [],
   "source": [
    "# Splitting data into train and test\n",
    "x_train,x_test,y_train,y_test = train_test_split(X,Y,test_size=0.3,random_state=21)"
   ]
  },
  {
   "cell_type": "code",
   "execution_count": 6,
   "metadata": {},
   "outputs": [],
   "source": [
    "import warnings\n",
    "warnings.filterwarnings('ignore')"
   ]
  },
  {
   "cell_type": "code",
   "execution_count": 19,
   "metadata": {},
   "outputs": [
    {
     "name": "stdout",
     "output_type": "stream",
     "text": [
      "Accuracy Score is  0.8597115525159343 saga 0.1\n",
      "Accuracy Score is  0.8597115525159343 saga 0.01\n",
      "Accuracy Score is  0.8597115525159343 saga 100\n",
      "Accuracy Score is  0.8597115525159343 saga 10\n",
      "Accuracy Score is  0.8597115525159343 saga 1.0\n",
      "Accuracy Score is  0.8585273203600563 liblinear 0.1\n",
      "Accuracy Score is  0.858577422489728 liblinear 0.01\n",
      "Accuracy Score is  0.8587658230599814 liblinear 100\n",
      "Accuracy Score is  0.8587057833178127 liblinear 10\n",
      "Accuracy Score is  0.8587182053334338 liblinear 1.0\n"
     ]
    }
   ],
   "source": [
    "## Parameter tuning\n",
    "solvers = ['saga','liblinear']\n",
    "penalty = ['l1']\n",
    "c_values = [ 0.1, 0.01,100,10,1.0]\n",
    "\n",
    "for i in solvers:\n",
    "    for j in c_values:\n",
    "        model = LogisticRegression(solver=i,C=j,penalty='l1').fit(x_train,y_train) \n",
    "        pred = model.predict(x_test)# x_test\n",
    "        print('Accuracy Score is ', accuracy_score(y_test,pred),i,j)  \n",
    "    "
   ]
  },
  {
   "cell_type": "code",
   "execution_count": null,
   "metadata": {},
   "outputs": [],
   "source": [
    "# Parameter Tuning\n",
    "solvers = ['newton-cg', 'lbfgs', 'liblinear','sag','saga']\n",
    "penalty = ['l2']\n",
    "c_values = [100, 10, 1.0, 0.1, 0.01]\n",
    "\n",
    "for i in solvers:\n",
    "    for j in c_values:\n",
    "        model = LogisticRegression(solver=i,C=j,penalty='l1').fit(x_train,y_train) \n",
    "        pred = model.predict(x_test)\n",
    "        print('Accuracy Score is ', accuracy_score(y_test,pred),i,j)  \n"
   ]
  },
  {
   "cell_type": "code",
   "execution_count": 20,
   "metadata": {},
   "outputs": [],
   "source": [
    "#From above set of parameters we have got best result for solver = 'sag',penalty='l2',C=0.1\n",
    "# Building model\n",
    "model = LogisticRegression(solver='sag',C=0.1).fit(x_train,y_train) "
   ]
  },
  {
   "cell_type": "code",
   "execution_count": 21,
   "metadata": {
    "colab": {
     "base_uri": "https://localhost:8080/",
     "height": 34
    },
    "colab_type": "code",
    "executionInfo": {
     "elapsed": 1809,
     "status": "ok",
     "timestamp": 1593515665278,
     "user": {
      "displayName": "Sampath Sampath",
      "photoUrl": "https://lh3.googleusercontent.com/a-/AOh14Gip83uGbOrhTC5E5zZvrIwLDqaM-1bEPB8e4eEg5g=s64",
      "userId": "01828029530078145206"
     },
     "user_tz": -330
    },
    "id": "XGvexiZw6bBy",
    "outputId": "933adc3c-278f-4d66-9320-67371fe6cb34"
   },
   "outputs": [
    {
     "data": {
      "text/plain": [
       "array([0, 0, 0, ..., 0, 0, 0], dtype=int64)"
      ]
     },
     "execution_count": 21,
     "metadata": {},
     "output_type": "execute_result"
    }
   ],
   "source": [
    "# Predicting the values\n",
    "pred = model.predict(x_test)# x_test\n",
    "pred"
   ]
  },
  {
   "cell_type": "code",
   "execution_count": 22,
   "metadata": {
    "colab": {
     "base_uri": "https://localhost:8080/",
     "height": 34
    },
    "colab_type": "code",
    "executionInfo": {
     "elapsed": 1449,
     "status": "ok",
     "timestamp": 1593515743299,
     "user": {
      "displayName": "Sampath Sampath",
      "photoUrl": "https://lh3.googleusercontent.com/a-/AOh14Gip83uGbOrhTC5E5zZvrIwLDqaM-1bEPB8e4eEg5g=s64",
      "userId": "01828029530078145206"
     },
     "user_tz": -330
    },
    "id": "NToxUQxW8A4_",
    "outputId": "9aa28dea-64c9-43d3-80d6-ee693320d3a8"
   },
   "outputs": [
    {
     "name": "stdout",
     "output_type": "stream",
     "text": [
      "Accuracy Score is  0.8609694886311643\n"
     ]
    }
   ],
   "source": [
    "## Accuracy\n",
    "print('Accuracy Score is ', accuracy_score(y_test,pred))"
   ]
  },
  {
   "cell_type": "code",
   "execution_count": 23,
   "metadata": {
    "colab": {
     "base_uri": "https://localhost:8080/",
     "height": 52
    },
    "colab_type": "code",
    "executionInfo": {
     "elapsed": 816,
     "status": "ok",
     "timestamp": 1593515763398,
     "user": {
      "displayName": "Sampath Sampath",
      "photoUrl": "https://lh3.googleusercontent.com/a-/AOh14Gip83uGbOrhTC5E5zZvrIwLDqaM-1bEPB8e4eEg5g=s64",
      "userId": "01828029530078145206"
     },
     "user_tz": -330
    },
    "id": "A0nbwYlc8JIW",
    "outputId": "3d4c14f3-9384-407b-8643-ce1246e6810a"
   },
   "outputs": [
    {
     "data": {
      "text/plain": [
       "array([[2076230,      31],\n",
       "       [ 335737,    3069]], dtype=int64)"
      ]
     },
     "execution_count": 23,
     "metadata": {},
     "output_type": "execute_result"
    }
   ],
   "source": [
    "## Confusion Matrix\n",
    "confusion_matrix(y_test,pred)"
   ]
  },
  {
   "cell_type": "code",
   "execution_count": 24,
   "metadata": {
    "colab": {
     "base_uri": "https://localhost:8080/",
     "height": 176
    },
    "colab_type": "code",
    "executionInfo": {
     "elapsed": 1352,
     "status": "ok",
     "timestamp": 1593515814016,
     "user": {
      "displayName": "Sampath Sampath",
      "photoUrl": "https://lh3.googleusercontent.com/a-/AOh14Gip83uGbOrhTC5E5zZvrIwLDqaM-1bEPB8e4eEg5g=s64",
      "userId": "01828029530078145206"
     },
     "user_tz": -330
    },
    "id": "IBxET4bD8OCB",
    "outputId": "4c48beab-c251-4373-dbce-5e589ed589f3"
   },
   "outputs": [
    {
     "name": "stdout",
     "output_type": "stream",
     "text": [
      "              precision    recall  f1-score   support\n",
      "\n",
      "           0       0.86      1.00      0.93   2076261\n",
      "           1       0.99      0.01      0.02    338806\n",
      "\n",
      "    accuracy                           0.86   2415067\n",
      "   macro avg       0.93      0.50      0.47   2415067\n",
      "weighted avg       0.88      0.86      0.80   2415067\n",
      "\n"
     ]
    }
   ],
   "source": [
    "## Classification Report\n",
    "report = classification_report(y_test,pred)\n",
    "print(report)"
   ]
  },
  {
   "cell_type": "code",
   "execution_count": null,
   "metadata": {},
   "outputs": [],
   "source": []
  },
  {
   "cell_type": "code",
   "execution_count": null,
   "metadata": {},
   "outputs": [],
   "source": []
  },
  {
   "cell_type": "code",
   "execution_count": null,
   "metadata": {},
   "outputs": [],
   "source": []
  },
  {
   "cell_type": "code",
   "execution_count": null,
   "metadata": {},
   "outputs": [],
   "source": []
  },
  {
   "cell_type": "code",
   "execution_count": null,
   "metadata": {},
   "outputs": [],
   "source": []
  },
  {
   "cell_type": "code",
   "execution_count": null,
   "metadata": {},
   "outputs": [],
   "source": []
  },
  {
   "cell_type": "code",
   "execution_count": null,
   "metadata": {},
   "outputs": [],
   "source": []
  },
  {
   "cell_type": "code",
   "execution_count": null,
   "metadata": {},
   "outputs": [],
   "source": []
  }
 ],
 "metadata": {
  "colab": {
   "authorship_tag": "ABX9TyPoEVwrvfLvwZGuIs5z4mCC",
   "collapsed_sections": [],
   "name": "Adhoc.ipynb",
   "provenance": []
  },
  "kernelspec": {
   "display_name": "Python 3",
   "language": "python",
   "name": "python3"
  },
  "language_info": {
   "codemirror_mode": {
    "name": "ipython",
    "version": 3
   },
   "file_extension": ".py",
   "mimetype": "text/x-python",
   "name": "python",
   "nbconvert_exporter": "python",
   "pygments_lexer": "ipython3",
   "version": "3.7.3"
  }
 },
 "nbformat": 4,
 "nbformat_minor": 1
}
